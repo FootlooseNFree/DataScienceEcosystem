{
 "cells": [
  {
   "cell_type": "markdown",
   "id": "e950fec6",
   "metadata": {},
   "source": [
    "# Data Science Tools and Ecosystem"
   ]
  },
  {
   "cell_type": "markdown",
   "id": "eaf48d5c",
   "metadata": {},
   "source": [
    "In this notebook, Data Science Tools and Ecosystem are summarized."
   ]
  },
  {
   "cell_type": "markdown",
   "id": "bbe47bd8",
   "metadata": {},
   "source": [
    "**Objectives:**\n",
    "- List of popular languges for Data Science\n",
    "- List of commonly used libraries for Data Science\n",
    "- A table containing some Data Science Tools\n",
    "- Examples of simple Python scripts"
   ]
  },
  {
   "cell_type": "markdown",
   "id": "54570639",
   "metadata": {},
   "source": [
    "Some of the popular languages that Data Scientists use are:\n",
    "1. Python\n",
    "2. R\n",
    "3. Julia\n",
    "4. Scala"
   ]
  },
  {
   "cell_type": "markdown",
   "id": "5c68532b",
   "metadata": {},
   "source": [
    "Some of the commonly used libraries used by Data Scientists include:\n",
    "1. NumPy\n",
    "2. Pandas\n",
    "3. Scikit-learn\n",
    "4. Matplotlib\n",
    "5. TensorFlow"
   ]
  },
  {
   "cell_type": "markdown",
   "id": "941352f3",
   "metadata": {},
   "source": [
    " | Data Science Tools |\n",
    " |:-------------------|\n",
    " | Jupyter Notebook |\n",
    " | RStudio |\n",
    " | Apache Spark |"
   ]
  },
  {
   "cell_type": "markdown",
   "id": "74cc7124",
   "metadata": {},
   "source": [
    "### Below are a few examples of evaluating arithmetic expressions in Python"
   ]
  },
  {
   "cell_type": "code",
   "execution_count": 2,
   "id": "66945235",
   "metadata": {},
   "outputs": [
    {
     "name": "stdout",
     "output_type": "stream",
     "text": [
      "17\n"
     ]
    }
   ],
   "source": [
    "# This a simple arithmetic expression to mutiply then add integers\n",
    "\n",
    "print((3*4)+5)"
   ]
  },
  {
   "cell_type": "code",
   "execution_count": 6,
   "id": "fd1e5cd8",
   "metadata": {},
   "outputs": [
    {
     "name": "stdout",
     "output_type": "stream",
     "text": [
      "3.33 hours\n"
     ]
    }
   ],
   "source": [
    "# This will convert 200 minutes to hours by diving by 60\n",
    "hours = 200/60\n",
    "\n",
    "print(f'{hours:.2f} hours')"
   ]
  },
  {
   "cell_type": "markdown",
   "id": "7997eca5",
   "metadata": {},
   "source": [
    "## Author\n",
    "Shashank"
   ]
  }
 ],
 "metadata": {
  "kernelspec": {
   "display_name": "Python 3 (ipykernel)",
   "language": "python",
   "name": "python3"
  },
  "language_info": {
   "codemirror_mode": {
    "name": "ipython",
    "version": 3
   },
   "file_extension": ".py",
   "mimetype": "text/x-python",
   "name": "python",
   "nbconvert_exporter": "python",
   "pygments_lexer": "ipython3",
   "version": "3.11.4"
  }
 },
 "nbformat": 4,
 "nbformat_minor": 5
}
